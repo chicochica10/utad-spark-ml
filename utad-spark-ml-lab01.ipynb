{
 "cells": [
  {
   "cell_type": "markdown",
   "metadata": {},
   "source": [
    "![ML Logo](https://raw.githubusercontent.com/chicochica10/utad-spark-ml/master/images/utad-spark-ml.1x_Banner_300.png)\n",
    "# **Repaso de Mates y Python**\n",
    "####Este notebook repasa las matemáticas de vectores y matrices, el paquete de Python [NumPy](http://www.numpy.org/) y las expresiones lambda de Python. La parte 1 cubre las matemáticas de vectores y matrices y haremos algunos ejercicios a mano. En la parte 2, aprenderemos como utilizar NumPy y utilizar objetos `ndarray` para resolver ejercicios matemáticos. La parte 3 proporciona información adicional sobre NumPy y como se relaciona con el uso de los arrays en Spark [MLlib](https://spark.apache.org/mllib/). En la parte 4 se utilizarán las expresiones Lambda.\n",
    "\n",
    "#### Para moverte por el notebook simplemente ejecuta cada una de las celdas. Puedes ejecutarlas pulsando \"shift+enter\", esto calculará la celda actual y avanzará hasta la siguiente. También puedes pulsar \"control+enter\", que calculará esa celda pero sin avazar. Tienes que moverte por el notebook de arriba abajo y ejecutar todas las celdas. Si te saltas algunas las siguiente pueden no funcionar correctamente.\n",
    "#### Hay varios ejercicios dentro de este notebook. Tienes que solucionar aquellas celdas que contengan  `<RELLENA>`.\n",
    " \n",
    "#### ** Contenido del notebook **\n",
    "#### *Parte 1:* Repaso de Matemáticas\n",
    "#### *Parte 2:* NumPy\n",
    "#### *Parte 3:* Más sobre NumPy y álgebra lineal en Spark\n",
    "#### *Parte 4:* Expresiones lambda en Python"
   ]
  },
  {
   "cell_type": "code",
   "execution_count": null,
   "metadata": {
    "collapsed": false
   },
   "outputs": [],
   "source": [
    "labVersion = 'utad-spark-ml'"
   ]
  },
  {
   "cell_type": "markdown",
   "metadata": {},
   "source": [
    "### ** Parte 1: Repaso de Matemáticas **"
   ]
  },
  {
   "cell_type": "markdown",
   "metadata": {},
   "source": [
    "#### ** (1a) Multiplicación escalar: vectores **\n",
    "#### En este ejercicio calcularás el producto de un escalar y un vector a mano y pondrás el resultado en el código de la celda de abajo. La multiplicación escalar es directa. El vector resultado es igual al producto del escalar, que es un único valor, por cada item del vector original. En el ejemplo de abajo, $ a $ es el escalar (contante) y $ \\mathbf{v} $ is el vector.  $$ a \\mathbf{v} = \\begin{bmatrix} a v_1 \\\\\\ a v_2 \\\\\\ \\vdots \\\\\\ a v_n \\end{bmatrix} $$\n",
    "#### Calcula el valor de $ \\mathbf{x} $: $$ \\mathbf{x} = 3 \\begin{bmatrix} 1 \\\\\\ -2 \\\\\\ 0 \\end{bmatrix} $$\n",
    "#### Calcula el valor de $ \\mathbf{y} $: $$ \\mathbf{y} = 2 \\begin{bmatrix} 2 \\\\\\ 4 \\\\\\ 8 \\end{bmatrix} $$"
   ]
  },
  {
   "cell_type": "code",
   "execution_count": null,
   "metadata": {
    "collapsed": false
   },
   "outputs": [],
   "source": [
    "# TODO: Sustituye <RELLENA> con el código apropiado\n",
    "# Calcula a mano la respuesta y representa el vector como una lista de enteros.\n",
    "# Por ejemplo, [2, 4, 8].\n",
    "x = <RELLENA>\n",
    "y = <RELLENA>"
   ]
  },
  {
   "cell_type": "code",
   "execution_count": null,
   "metadata": {
    "collapsed": false
   },
   "outputs": [],
   "source": [
    "# TEST Multiplicación escalar: vectores (1a)\n",
    "# Importar librería de test\n",
    "from test_helper import Test\n",
    "Test.assertEqualsHashed(x, 'e460f5b87531a2b60e0f55c31b2e49914f779981',\n",
    "                        'valor incorrecto del vector x')\n",
    "Test.assertEqualsHashed(y, 'e2d37ff11427dbac7f833a5a7039c0de5a740b1e',\n",
    "                        'valor incorrecto del vector y')"
   ]
  },
  {
   "cell_type": "markdown",
   "metadata": {},
   "source": [
    "#### ** (1b) Multiplicación de vectores elemento a elemento **\n",
    "#### En este ejercicio calcularás la multiplicación de dos vectores elemento a elemento a mano y pondrás el resultado en el código de la celda de abajo. Veremos más adelante que la multiplicación de vectores elemento a elemento es el método por defecto que utiliza NumPy para multiplicar dos arrays. NOTA: No vamos a realizar la multiplicación de vectores elemento a elemento en el resto de labs pero lo introducimos aqui para distinguirla de otras operaciones vectoriales y porque es una operación común con NumPy como se verá en (2b).\n",
    "#### La multiplicación elemento a elemento es: $$ \\mathbf{x} \\odot \\mathbf{y} =  \\begin{bmatrix} x_1 y_1 \\\\\\  x_2 y_2 \\\\\\ \\vdots \\\\\\ x_n y_n \\end{bmatrix} $$\n",
    "#### Calcula el valor de  $ \\mathbf{z} $: $$ \\mathbf{z} = \\begin{bmatrix} 1 \\\\\\  2 \\\\\\ 3 \\end{bmatrix} \\odot \\begin{bmatrix} 4 \\\\\\  5 \\\\\\ 6 \\end{bmatrix} $$"
   ]
  },
  {
   "cell_type": "code",
   "execution_count": null,
   "metadata": {
    "collapsed": false
   },
   "outputs": [],
   "source": [
    "# TODO: Sustituye <RELLENA> con el código apropiado\n",
    "# Calcula manualmente la respuesta y escribe el vector como una lista de enteros.\n",
    "z = <RELLENA>"
   ]
  },
  {
   "cell_type": "code",
   "execution_count": null,
   "metadata": {
    "collapsed": false
   },
   "outputs": [],
   "source": [
    "# TEST multiplicación elemento a elemento: vectors (1b)\n",
    "Test.assertEqualsHashed(z, '4b5fe28ee2d274d7e0378bf993e28400f66205c2',\n",
    "                        'valor incorrecto para el vector z')"
   ]
  },
  {
   "cell_type": "markdown",
   "metadata": {},
   "source": [
    "#### ** (1c) Producto escalar - Dot product **\n",
    "#### En este ejercicio calcularás el producto escalar de dos vectores a mano y pondrás el resultado en el código de la celda de abajo. El producto escalar es equivalente a realizar la multiplicación elemento a elemento y sumar el resultado.\n",
    "#### A continuación puedes ver el producto escalar de dos vectores cada uno de los cuales tine una longitud $ n $: $$ \\mathbf{w} \\cdot \\mathbf{x} = \\sum_{i=1}^n w_i x_i $$\n",
    "#### Es posible ver $ \\mathbf{w} \\cdot \\mathbf{x} $ representado como $ \\mathbf{w}^\\top \\mathbf{x} $\n",
    "#### Calcula el valor de $ c_1 $ basado en el producto escalar de los vectores:\n",
    "#### $$ c_1 = \\begin{bmatrix} 1 \\\\\\ -3 \\end{bmatrix} \\cdot \\begin{bmatrix} 4 \\\\\\ 5 \\end{bmatrix}$$\n",
    "#### Calcula el valor de $ c_2 $ basado en el producto escalar de los vectores:\n",
    "#### $$ c_2 = \\begin{bmatrix} 3 \\\\\\ 4 \\\\\\ 5 \\end{bmatrix} \\cdot \\begin{bmatrix} 1 \\\\\\ 2 \\\\\\ 3 \\end{bmatrix}$$"
   ]
  },
  {
   "cell_type": "code",
   "execution_count": null,
   "metadata": {
    "collapsed": false
   },
   "outputs": [],
   "source": [
    "# TODO: Sustituye <RELLENA> con el código apropiado\n",
    "# Calcula manualmente la respuesta y asigna a las variables sus valores apropiados.\n",
    "c1 = <RELLENA>\n",
    "c2 = <RELLENA>"
   ]
  },
  {
   "cell_type": "code",
   "execution_count": null,
   "metadata": {
    "collapsed": false
   },
   "outputs": [],
   "source": [
    "# TEST Producto escalar - Dot product (1c)\n",
    "Test.assertEqualsHashed(c1, '8d7a9046b6a6e21d66409ad0849d6ab8aa51007c', 'valor incorrecto para c1')\n",
    "Test.assertEqualsHashed(c2, '887309d048beef83ad3eabf2a79a64a389ab1c9f', 'valor incorrecto para c2')"
   ]
  },
  {
   "cell_type": "markdown",
   "metadata": {},
   "source": [
    "#### ** (1d) Multiplicación de matrices **\n",
    "#### En este ejercicio calcurarás el resultado de multiplicar dos matrices a mano y poner el resultado en el código de la celda de abajo.\n",
    "#### A continuación se muestra la multiplicación de dos matrices. El número de columnas de la primera matriz y el número de filas de la segunda han de ser iguales y está representado por $ n $:\n",
    "#### $$ [\\mathbf{X} \\mathbf{Y}]_{i,j} = \\sum_{r=1}^n \\mathbf{X}_{i,r} \\mathbf{Y}_{r,j} $$\n",
    "#### Primero calcula el valor para $ \\mathbf{X} $.\n",
    "#### $$ \\mathbf{X} = \\begin{bmatrix} 1 & 2 & 3 \\\\\\ 4 & 5 & 6 \\end{bmatrix} \\begin{bmatrix} 1 & 2 \\\\\\ 3 & 4 \\\\\\ 5 & 6 \\end{bmatrix} $$\n",
    "#### A continuación realiza el producto externo (outer product) y calcula el valor de $ \\mathbf{Y} $.  El producto externo es un caso especial de multiplicación de matrices donde el número columnas de la primera matriz = número de filas de la segunda matriz = 1.\n",
    "#### $$ \\mathbf{Y} = \\begin{bmatrix} 1 \\\\\\ 2 \\\\\\ 3 \\end{bmatrix} \\begin{bmatrix} 1 & 2 & 3 \\end{bmatrix} $$"
   ]
  },
  {
   "cell_type": "code",
   "execution_count": null,
   "metadata": {
    "collapsed": false
   },
   "outputs": [],
   "source": [
    "# TODO: Sustituye <RELLENA> con el código apropiado\n",
    "# Escribe las matrices como listas de listas. Por ejemplo  [[1,2,3], [4,5,6]] representa una matriz con\n",
    "# dos filas y tres columnas. Usa valores enteros.\n",
    "X = <RELLENA>\n",
    "Y = <RELLENA>"
   ]
  },
  {
   "cell_type": "code",
   "execution_count": null,
   "metadata": {
    "collapsed": false
   },
   "outputs": [],
   "source": [
    "# TEST Multiplicacion de matrices (1d)\n",
    "Test.assertEqualsHashed(X, 'c2ada2598d8a499e5dfb66f27a24f444483cba13',\n",
    "                        'valor incorrecto para la matriz X')\n",
    "Test.assertEqualsHashed(Y, 'f985daf651531b7d776523836f3068d4c12e4519',\n",
    "                        'valor incorrecto para l matriz Y')"
   ]
  },
  {
   "cell_type": "markdown",
   "metadata": {},
   "source": [
    "### ** Parte 2: NumPy**"
   ]
  },
  {
   "cell_type": "markdown",
   "metadata": {},
   "source": [
    "#### ** (2a) Multiplicación escalar **\n",
    "#### [NumPy](http://docs.scipy.org/doc/numpy/reference/) Es una librería Python para trabajar con arrays. NumPy proporciona abstraciones que facilitan las operaciones con estos arrays tratándolos como vectores y matrices. La librería está optimizada en consumo de memoria y velocidad. El bloque básico de NumPy es [ndarray](http://docs.scipy.org/doc/numpy/reference/generated/numpy.ndarray.html) es un array multidimensional de tamaño fijo que contiene elementos de un único tipo (por ejemplo floats).\n",
    "\n",
    "#### En este ejercicio, crearás un `ndarray` con los elementos \\[1, 2, 3\\] y lo multiplicarás por 5. Utiliza [np.array()](http://docs.scipy.org/doc/numpy/reference/generated/numpy.array.html) para crear el array. Puedes pasar una lista de Python a  `np.array()`. Para realizar la multiplicación scalar con `ndarray` utiliza `*`.\n",
    "\n",
    "#### Si creas un array desde una lista de enteros Python obtendrás un array unidimensioal lo que equivale a un vector para nuestros propositos. "
   ]
  },
  {
   "cell_type": "code",
   "execution_count": null,
   "metadata": {
    "collapsed": false
   },
   "outputs": [],
   "source": [
    "# convención para importar NumPy con el alias np\n",
    "import numpy as np"
   ]
  },
  {
   "cell_type": "code",
   "execution_count": null,
   "metadata": {
    "collapsed": false
   },
   "outputs": [],
   "source": [
    "# TODO: Sustituye <RELLENA> con el código apropiado\n",
    "# Crea un array numpy con los valores 1, 2, 3\n",
    "simpleArray = <RELLENA>\n",
    "# Realiza el producto escalar de 5 por el array numpy\n",
    "timesFive = <RELLENA>\n",
    "print simpleArray\n",
    "print timesFive"
   ]
  },
  {
   "cell_type": "code",
   "execution_count": null,
   "metadata": {
    "collapsed": false
   },
   "outputs": [],
   "source": [
    "# TEST Multiplicación escalar (2a)\n",
    "Test.assertTrue(np.all(timesFive == [5, 10, 15]), 'valor incorrecto par timesFive')"
   ]
  },
  {
   "cell_type": "markdown",
   "metadata": {},
   "source": [
    "#### ** (2b) Mulitplicación elemento a elemento y producto escalar (dot product) **\n",
    "#### Los arrays de NumPy soportan tanto la multiplicación elemento a elemento como el producto escalar entre vectores. La multiplicación elemento a elemento ocurre automáticamente cuando se usa el operador `*` con dos objetos `ndarray` de la misma longitud.\n",
    "#### Para realizar el producto escalar puedes utilizar bien [np.dot()](http://docs.scipy.org/doc/numpy/reference/generated/numpy.dot.html#numpy.dot) o [np.ndarray.dot()](http://docs.scipy.org/doc/numpy/reference/generated/numpy.ndarray.dot.html). Por ejemplo si tienes los arrays NumPy `x` e `y` puedes calcular su producto escalar de cuatro formas: `np.dot(x, y)`, `np.dot(y, x)`, `x.dot(y)`, o `y.dot(x)`.\n",
    "#### En este ejercicio multiplica los arrays `u`  and `v` elemento a elemento y calcula su producto escalar (dot product)."
   ]
  },
  {
   "cell_type": "code",
   "execution_count": null,
   "metadata": {
    "collapsed": false
   },
   "outputs": [],
   "source": [
    "# TODO: Sustituye <RELLENA> con el código apropiado\n",
    "# multiplicación elemento a elemento y producto escalar\n",
    "u = np.arange(0, 5, .5)\n",
    "v = np.arange(5, 10, .5)\n",
    "\n",
    "elementWise = <RELLENA>\n",
    "dotProduct = <RELLENA>\n",
    "print 'u: {0}'.format(u)\n",
    "print 'v: {0}'.format(v)\n",
    "print '\\nelementWise\\n{0}'.format(elementWise)\n",
    "print '\\ndotProduct\\n{0}'.format(dotProduct)"
   ]
  },
  {
   "cell_type": "code",
   "execution_count": null,
   "metadata": {
    "collapsed": false
   },
   "outputs": [],
   "source": [
    "# TEST multiplicación elemento a elemento y producto escalar (2b)\n",
    "Test.assertTrue(np.all(elementWise == [ 0., 2.75, 6., 9.75, 14., 18.75, 24., 29.75, 36., 42.75]),\n",
    "                'valor incorrecto para multiplicación elemento a elemento')\n",
    "Test.assertEquals(dotProduct, 183.75, 'valor incorrecto para el producto escalar')"
   ]
  },
  {
   "cell_type": "markdown",
   "metadata": {},
   "source": [
    "#### ** (2c) Matrices **\n",
    "#### Con NumPy es muy fácil realizar operaciones sobre matrices. Puedes utilizar  [np.matrix()](http://docs.scipy.org/doc/numpy/reference/generated/numpy.matrix.html) para generar una matriz NumPy, simplemente pasa un `ndarray` de dos dimensiones o una lista de listas a la función. Para multiplicar dos matrices se usa `*`.\n",
    "\n",
    "#### Puedes calcular la transpuesta de una matriz llamando a [numpy.matrix.transpose()](http://docs.scipy.org/doc/numpy/reference/generated/numpy.matrix.transpose.html) o utilizando `.T` en el objeto matriz (por ejemplo `miMatriz.T`). La transpuesta de una matriz es otra matriz donde las filas son las columnas de la matriz original. Por ejemplo: $$  \\begin{bmatrix} 1 & 2 & 3 \\\\\\ 4 & 5 & 6 \\end{bmatrix}^\\mathbf{\\top} = \\begin{bmatrix} 1 & 4 \\\\\\ 2 & 5 \\\\\\ 3 & 6 \\end{bmatrix} $$\n",
    " \n",
    "#### Se puede invertir una matriz usando [numpy.linalg.inv()](http://docs.scipy.org/doc/numpy/reference/generated/numpy.linalg.inv.html). Sólo las matrices cuadradas se pueden invertir y no todas las matrices cuadradas tienen inversa. Si la inversa existe al multiplicarla por la matriz original el resultado es la matriz identidad.  $ \\scriptsize ( \\mathbf{A}^{-1} \\mathbf{A} = \\mathbf{I_n} ) $  The identity matrix $ \\scriptsize \\mathbf{I_n} $ has ones along its diagonal and zero elsewhere. $$ \\mathbf{I_n} = \\begin{bmatrix} 1 & 0 & 0 & \\dots & 0 \\\\\\ 0 & 1 & 0 & \\dots & 0 \\\\\\ 0 & 0 & 1 & \\dots & 0 \\\\\\ \\vdots & \\vdots & \\vdots & \\ddots & \\vdots \\\\\\ 0 & 0 & 0 & \\dots & 1 \\end{bmatrix} $$\n",
    "#### Multiplica $ \\mathbf{A} $ por su transpuesta $ ( \\mathbf{A}^\\top ) $ y calcula la inversa del resultado $ (  [ \\mathbf{A} \\mathbf{A}^\\top ]^{-1}  ) $."
   ]
  },
  {
   "cell_type": "code",
   "execution_count": null,
   "metadata": {
    "collapsed": false
   },
   "outputs": [],
   "source": [
    "# TODO: Sustituye <RELLENA> con el código apropiado\n",
    "from numpy.linalg import inv\n",
    "\n",
    "A = np.matrix([[1,2,3,4],[5,6,7,8]])\n",
    "print 'A:\\n{0}'.format(A)\n",
    "# Imprime transpuesta de A\n",
    "print '\\nTranspuesta de A:\\n{0}'.format(A.T)\n",
    "\n",
    "# Multiplica A por su transpuesta\n",
    "AAt = <RELLENA>\n",
    "print '\\nAAt:\\n{0}'.format(AAt)\n",
    "\n",
    "# Invierte AAt con np.linalg.inv()\n",
    "AAtInv = <RELLENA>\n",
    "print '\\nAAtInv:\\n{0}'.format(AAtInv)\n",
    "\n",
    "# Calcula la inversa de A por su transpuesta\n",
    "# redondeamos\n",
    "print '\\nAAtInv * AAt:\\n{0}'.format((AAtInv * AAt).round(4))"
   ]
  },
  {
   "cell_type": "code",
   "execution_count": null,
   "metadata": {
    "collapsed": false
   },
   "outputs": [],
   "source": [
    "# TEST Matrices (2c)\n",
    "Test.assertTrue(np.all(AAt == np.matrix([[30, 70], [70, 174]])), 'valor incorrecto para AAt')\n",
    "Test.assertTrue(np.allclose(AAtInv, np.matrix([[0.54375, -0.21875], [-0.21875, 0.09375]])),\n",
    "                'valor incorrecto para AAtInv')"
   ]
  },
  {
   "cell_type": "markdown",
   "metadata": {},
   "source": [
    "### ** Parte 3: Más sobre NumPy y álgebra lineal en Spark **"
   ]
  },
  {
   "cell_type": "markdown",
   "metadata": {},
   "source": [
    "#### ** (3a) Slices **\n",
    "#### Puedes selecionar un subconjunto de elementos de un `ndarray` unidimensional usando slices. Las slices funcionan de la misma manera que en las listas de Python. Por ejemplo `[0, 1, 2, 3][:2]` devuelve los dos primeros elementos `[0, 1]`. NumPy proporciona slices más sofisticados para tratar con múltiples dimensiones pero no los necesitaremos para los labs del curso.\n",
    "#### Si no hay un índice a la izquierda de `:` equivale a empezar desde el índice 0 por ejemplo `[0, 1, 2, 3][:2]` y `[0, 1, 2, 3][0:2]` dan el mismo resultado. De igual manera si no hay índice a la derecha de  `:`, equivale a hacer un slice hasta el final del objeto. También se pueden utilizar índices negativos para indexar de manera relativa desde el final de un objeto: `[-2:]` devuelve los dos últimos elementos de ese objeto.\n",
    "#### Devuelve los 3 últimos elementos del array 'features'."
   ]
  },
  {
   "cell_type": "code",
   "execution_count": null,
   "metadata": {
    "collapsed": false
   },
   "outputs": [],
   "source": [
    "# TODO: Sustituye <RELLENA> con el código apropiado\n",
    "features = np.array([1, 2, 3, 4])\n",
    "print 'features:\\n{0}'.format(features)\n",
    "\n",
    "# Los últimos 3 elementos de features\n",
    "lastThree = <RELLENA>\n",
    "\n",
    "print '\\nlastThree:\\n{0}'.format(lastThree)"
   ]
  },
  {
   "cell_type": "code",
   "execution_count": null,
   "metadata": {
    "collapsed": false
   },
   "outputs": [],
   "source": [
    "# TEST Slices (3a)\n",
    "Test.assertTrue(np.all(lastThree == [2, 3, 4]), 'valor incorrecto para lastThree')"
   ]
  },
  {
   "cell_type": "markdown",
   "metadata": {},
   "source": [
    "#### ** (3b) Combinar objetos `ndarray` **\n",
    "#### NumPy proporciona varias funciones para crear nuevos arrays a partir de arrays existentes. Vamos a ver dos de estas funciones: [np.hstack()](http://docs.scipy.org/doc/numpy/reference/generated/numpy.hstack.html), que permite combinar arrays orientados a columnas y  [np.vstack()](http://docs.scipy.org/doc/numpy/reference/generated/numpy.vstack.html), que permite combinar arrays orientados a filas. Tanto `np.hstack()` como `np.vstack()` toman una tupla de arrays como primer argumento. Para combinar horizontalmente tres arrays  `a`, `b`, and `c`, ejecutaríamos `np.hstack((a, b, c))`.\n",
    "#### Si tenemos dos arrays: `a = [1, 2, 3, 4]` y `b = [5, 6, 7, 8]`, podemos utilizar `np.vstack((a, b))` para obtener el array bidimensional: $$  \\begin{bmatrix} 1 & 2 & 3 & 4 \\\\\\ 5 & 6 & 7 & 8 \\end{bmatrix} $$\n",
    "#### En este ejercicio combinarás los arrays  `zeros` y `ones` tanto horizontalmente (orientado a columnas) como verticalmente (orientado a filas).\n",
    "#### El resultado del stacking de dos arrays es un `ndarray`.  Si necesitas una matriz puedes llamar a `np.matrix()` sobre el resultado que devuelve una matriz NumPy."
   ]
  },
  {
   "cell_type": "code",
   "execution_count": null,
   "metadata": {
    "collapsed": false
   },
   "outputs": [],
   "source": [
    "# TODO: Sustituye <RELLENA> con el código apropiado\n",
    "zeros = np.zeros(8)\n",
    "ones = np.ones(8)\n",
    "print 'zeros:\\n{0}'.format(zeros)\n",
    "print '\\nones:\\n{0}'.format(ones)\n",
    "\n",
    "zerosThenOnes = <RELLENA>   # Un array de 1 por 16\n",
    "zerosAboveOnes = <RELLENA>  # Un array de 2 por 8\n",
    "\n",
    "print '\\nzerosThenOnes:\\n{0}'.format(zerosThenOnes)\n",
    "print '\\nzerosAboveOnes:\\n{0}'.format(zerosAboveOnes)"
   ]
  },
  {
   "cell_type": "code",
   "execution_count": null,
   "metadata": {
    "collapsed": false
   },
   "outputs": [],
   "source": [
    "# TEST combinar objectos ndarray (3b)\n",
    "Test.assertTrue(np.all(zerosThenOnes == [0,0,0,0,0,0,0,0,1,1,1,1,1,1,1,1]),\n",
    "                'incorrect value for zerosThenOnes')\n",
    "Test.assertTrue(np.all(zerosAboveOnes == [[0,0,0,0,0,0,0,0],[1,1,1,1,1,1,1,1]]),\n",
    "                'incorrect value for zerosAboveOnes')"
   ]
  },
  {
   "cell_type": "markdown",
   "metadata": {},
   "source": [
    "#### ** (3c) DenseVector de PySpark**\n",
    "#### PySpark proporciona una clase [DenseVector](https://spark.apache.org/docs/latest/api/python/pyspark.mllib.html#pyspark.mllib.linalg.DenseVector) dentro del módulo [pyspark.mllib.linalg](https://spark.apache.org/docs/latest/api/python/pyspark.mllib.html#module-pyspark.mllib.linalg).  `DenseVector` se usa para almacenar arrays de valores para utilizarlos en PySpark. `DenseVector` realmente almacena los valores en un array NumPy y delega los cálculos en ese objeto. Puedes crear un nuevo `DenseVector` utilizando `DenseVector()` pasándole un array NumPy o una lista Python.\n",
    "#### `DenseVector` implementa varias funciones. La única que vamos a necesitar en el curso es `DenseVector.dot()` que funciona como `np.ndarray.dot()`.\n",
    "#### `DenseVector` almacena los valores com `np.float64`, así que aunque le pases un array NumPy de enteros el `DenseVector` creado contendrá números en coma flotante. También hay que tener en cuenta que los objetos `DenseVector` tienen una existencia local y no son de naturaleza distribuida. Para que podamos utilizarlos de manera distribuida se utilizarán combinados con RDD's (lo veremos más adelante).\n",
    "#### Crea un `DenseVector` con los valores `[3.0, 4.0, 5.0]` y calcula el producto escalar por el vector `numpyVector`."
   ]
  },
  {
   "cell_type": "code",
   "execution_count": null,
   "metadata": {
    "collapsed": false
   },
   "outputs": [],
   "source": [
    "from pyspark.mllib.linalg import DenseVector"
   ]
  },
  {
   "cell_type": "code",
   "execution_count": null,
   "metadata": {
    "collapsed": false
   },
   "outputs": [],
   "source": [
    "# TODO: Sustituye <RELLENA> con el código apropiado\n",
    "numpyVector = np.array([-3, -4, 5])\n",
    "print '\\nnumpyVector:\\n{0}'.format(numpyVector)\n",
    "\n",
    "# Crear un DenseVector con los valores [3.0, 4.0, 5.0]\n",
    "myDenseVector = <RELLENA>\n",
    "# Calcular el dot product entre dos vectores.\n",
    "denseDotProduct = <RELLENA>\n",
    "\n",
    "print 'myDenseVector:\\n{0}'.format(myDenseVector)\n",
    "print '\\ndenseDotProduct:\\n{0}'.format(denseDotProduct)"
   ]
  },
  {
   "cell_type": "code",
   "execution_count": null,
   "metadata": {
    "collapsed": false
   },
   "outputs": [],
   "source": [
    "# TEST DenseVector de PySpark (3c)\n",
    "Test.assertTrue(isinstance(myDenseVector, DenseVector), 'myDenseVector no es un DenseVector')\n",
    "Test.assertTrue(np.allclose(myDenseVector, np.array([3., 4., 5.])),\n",
    "                'valor incorrecto para myDenseVector')\n",
    "Test.assertTrue(np.allclose(denseDotProduct, 0.0), 'valor incorrecto para denseDotProduct')"
   ]
  },
  {
   "cell_type": "markdown",
   "metadata": {},
   "source": [
    "### ** Parte 4: Expresiones lambda en Python **"
   ]
  },
  {
   "cell_type": "markdown",
   "metadata": {},
   "source": [
    "#### ** (4a) Lambda es una función anónima **\n",
    "#### Podemos usar una expresión lambda para crear una función. Para hacerlo se escribe `lambda` seguido de los nombres de los parámetros de la función separados por coma, a continuación se escribe   `:` y después el cuerpo que la función ejecutará. Por ejemplo `lambda x, y: x + y` es una función anónima que calcula la suma de sus dos parámetros x e y.\n",
    "#### Las expresiones lambda devuelven una función cuando se evalúan. La función no está asignada a ninguna variable y es por lo que se dice que son funciones anónimas. Sin embargo es posible asignar la función a una variable. Las expresiones lambda son muy útiles cuando necesitamos pasar una función sencilla a otra función.\n",
    "#### A continuación vamos a ver un ejemplo de como podemos asignar la función que devuelve una expresión lambda a una variable llamada `addSLambda`. Con este ejemplo se puede ver que  `lambda` proporciona un atajo para crear una función simple. El comportamiento de la función creada usando `def` y la función creada usando `lambda` es equivalente, ambas funciones tienen el mismo tipo y devuelven los mismos resultados, la única diferencia son los nombres y la forma en la que fueron creadas.\n",
    "#### Ejecuta las dos celdas de abajo para comparar la función creada usando `def` con su correspondiente función anónima. Después escribe tu propia expresión lambda que cree una función que multiplique su parámetro por 10.\n",
    "#### Información adicional sobre lambdas: [Lambda Functions](http://www.secnetix.de/olli/Python/lambda_functions.hawk), [Lambda Tutorial](https://pythonconquerstheuniverse.wordpress.com/2011/08/29/lambda_tutorial/), y [Python Functions](http://www.bogotobogo.com/python/python_functions_lambda.php)."
   ]
  },
  {
   "cell_type": "code",
   "execution_count": null,
   "metadata": {
    "collapsed": false
   },
   "outputs": [],
   "source": [
    "# Función de ejemplo\n",
    "def addS(x):\n",
    "    return x + 's'\n",
    "print type(addS)\n",
    "print addS\n",
    "print addS('cat')"
   ]
  },
  {
   "cell_type": "code",
   "execution_count": null,
   "metadata": {
    "collapsed": false
   },
   "outputs": [],
   "source": [
    "# como una expresion lambda\n",
    "addSLambda = lambda x: x + 's'\n",
    "print type(addSLambda)\n",
    "print addSLambda\n",
    "print addSLambda('cat')"
   ]
  },
  {
   "cell_type": "code",
   "execution_count": null,
   "metadata": {
    "collapsed": false
   },
   "outputs": [],
   "source": [
    "# TODO: Sustituye <RELLENA> con el código apropiado\n",
    "# Recuerda que : \"lambda x, y: x + y\" crea una función que suma dos números\n",
    "multiplyByTen = lambda x: <RELLENA>\n",
    "print multiplyByTen(5)\n",
    "\n",
    "# La función continúa monstrando su nombre como <lambda>\n",
    "print '\\n', multiplyByTen"
   ]
  },
  {
   "cell_type": "code",
   "execution_count": null,
   "metadata": {
    "collapsed": false
   },
   "outputs": [],
   "source": [
    "# TEST expresiones lambda en Python (4a)\n",
    "Test.assertEquals(multiplyByTen(10), 100, 'definición incorrecta para for multiplyByTen')"
   ]
  },
  {
   "cell_type": "markdown",
   "metadata": {},
   "source": [
    "#### ** (4b) `lambda` tiene menos pasos que `def` **\n",
    "#### `lambda` genera una función y la devuelve mientras que `def` genera una función y le asigna un nombre. La función devuelta por  `lambda` también devuelve automáticamente el valor del cálculo de la expresión lo que reduce la cantidad de código que hay que escribir.\n",
    "#### En este ejercicio vamos a recrear el comportamiento de `def` usando `lambda`. Ya que una expresión lambda devuelve una función también se puede utilizar en cualquier lugar donde se espere un objeto por ejemplo se puede crear una lista de funciones donde cada función en la lista se genere con una expresión lambda."
   ]
  },
  {
   "cell_type": "code",
   "execution_count": null,
   "metadata": {
    "collapsed": false
   },
   "outputs": [],
   "source": [
    "# Código que usa def y que se recreará con lambdas\n",
    "def plus(x, y):\n",
    "    return x + y\n",
    "\n",
    "def minus(x, y):\n",
    "    return x - y\n",
    "\n",
    "functions = [plus, minus]\n",
    "print functions[0](4, 5)\n",
    "print functions[1](4, 5)"
   ]
  },
  {
   "cell_type": "code",
   "execution_count": null,
   "metadata": {
    "collapsed": false
   },
   "outputs": [],
   "source": [
    "# TODO: Sustituye <RELLENA> con el código apropiado\n",
    "# La primera función debe sumar dos valores mientras que la segunda funcion debe restar \n",
    "# el segundo valor del primero\n",
    "lambdaFunctions = [lambda <RELLENA> ,  lambda <RELLENA>]\n",
    "print lambdaFunctions[0](4, 5)\n",
    "print lambdaFunctions[1](4, 5)"
   ]
  },
  {
   "cell_type": "code",
   "execution_count": null,
   "metadata": {
    "collapsed": false
   },
   "outputs": [],
   "source": [
    "# TEST lambda tiene menos pasos que def (4b)\n",
    "Test.assertEquals(lambdaFunctions[0](10, 10), 20, 'primera lambdaFunction incorrecta')\n",
    "Test.assertEquals(lambdaFunctions[1](10, 10), 0, 'segunda lambdaFunction incorrecta')"
   ]
  },
  {
   "cell_type": "markdown",
   "metadata": {},
   "source": [
    "#### ** (4c) Argumentos en las expresiones Lambda **\n",
    "#### Las expresiones lambda se pueden usar para generar funciones que tomen cero o más parámetros. La sintaxis de `lambda` permite muchas formas de definir la misma función. Por ejemplo podemos querer crear una función que tome un único parámetro donde el parámetro es una tupla de dos valores y la función los sume. La sintaxis podría ser `lambda x: x[0] + x[1]` o `lambda (x0, x1): x0 + x1`. Si llamamos a la función con la tupla `(3, 4)` en ambos casos devolvería `7`. El segundo `lambda` funciona porque la tupla `(3, 4)` se desempaqueta automáticamente lo que significa que a `x0` se le asigna el valor `3` y a  `x1` se le asigna el valor `4`.\n",
    "#### Como otro ejemplo consideremos las siguientes expresiones lambda: `lambda x, y: (x[0] + y[0], x[1] + y[1])` y `lambda (x0, x1), (y0, y1): (x0 + y0, x1 + y1)`. El resultado de aplicar a ambas funciones las tuplas `(1, 2)` y `(3, 4)` será la tupla `(4, 6)`.\n",
    "#### A continuación crearás dos funciones de un sólo parámetro `swap1` and `swap2` que intercambian el orden de la tupla; una función de un único parámetro `swapOrder` que toma una tupla de tres valores y les cambia el orden: segundo elemento, tercer elemento, primer elemento; y por último una función de tres parámetros `sumThree` que toma 3 tuplas cada una con 2 valores y devuelve una tupla con dos valores: La suma de del primer elemento de cada tupla y la suma del segundo elemento de cada tupla."
   ]
  },
  {
   "cell_type": "code",
   "execution_count": null,
   "metadata": {
    "collapsed": false
   },
   "outputs": [],
   "source": [
    "# Ejemplos. Nota el espaciado ha sido modificado para distinguir tuplas de parámetros\n",
    "\n",
    "# Función de un único parámetro\n",
    "a1 = lambda x: x[0] + x[1]\n",
    "a2 = lambda (x0, x1): x0 + x1\n",
    "print 'a1( (3,4) ) = {0}'.format( a1( (3,4) ) )\n",
    "print 'a2( (3,4) ) = {0}'.format( a2( (3,4) ) )\n",
    "\n",
    "# Función de dos parámetros\n",
    "b1 = lambda x, y: (x[0] + y[0], x[1] + y[1])\n",
    "b2 = lambda (x0, x1), (y0, y1): (x0 + y0, x1 + y1)\n",
    "print '\\nb1( (1,2), (3,4) ) = {0}'.format( b1( (1,2), (3,4) ) )\n",
    "print 'b2( (1,2), (3,4) ) = {0}'.format( b2( (1,2), (3,4) ) )"
   ]
  },
  {
   "cell_type": "code",
   "execution_count": null,
   "metadata": {
    "collapsed": false
   },
   "outputs": [],
   "source": [
    "# TODO: Sustituye <RELLENA> con el código apropiado\n",
    "# Usa ambas sintaxis para crear una funcion que tome una tupla de dos valores y los intercambie\n",
    "# Ejemplo (1, 2) => (2, 1)\n",
    "swap1 = lambda x: <RELLENA>\n",
    "swap2 = lambda (x0, x1): <RELLENA>\n",
    "print 'swap1((1, 2)) = {0}'.format(swap1((1, 2)))\n",
    "print 'swap2((1, 2)) = {0}'.format(swap2((1, 2)))\n",
    "\n",
    "# Crea una función que tome una tupla de tres valores y devuelva una tupla\n",
    "# de (segundo valor, tercer valor, primer valor). Ejemplo (1, 2, 3) => (2, 3, 1)\n",
    "swapOrder = <RELLENA>\n",
    "print 'swapOrder((1, 2, 3)) = {0}'.format(swapOrder((1, 2, 3)))\n",
    "\n",
    "# Crea una función que tome tres tuplas cada una con dos valores\n",
    "# La función debe devolver una tupla con los valores de la primera posición sumada los valores\n",
    "# de la segunda posición sumada. Ejemplo (1, 2), (3, 4), (5, 6) => (1 + 3 + 5, 2 + 4 + 6) => (9, 12) \n",
    "sumThree = <RELLENA>\n",
    "print 'sumThree((1, 2), (3, 4), (5, 6)) = {0}'.format(sumThree((1, 2), (3, 4), (5, 6)))"
   ]
  },
  {
   "cell_type": "code",
   "execution_count": null,
   "metadata": {
    "collapsed": false
   },
   "outputs": [],
   "source": [
    "# TEST argumentos en expresiones lambda (4c)\n",
    "Test.assertEquals(swap1((1, 2)), (2, 1), 'definición incorrecta para swap1')\n",
    "Test.assertEquals(swap2((1, 2)), (2, 1), 'definición incorrecta para swap2')\n",
    "Test.assertEquals(swapOrder((1, 2, 3)), (2, 3, 1), 'definición incorrecta para swapOrder')\n",
    "Test.assertEquals(sumThree((1, 2), (3, 4), (5, 6)), (9, 12), 'definición incorrecta para sumThree')"
   ]
  },
  {
   "cell_type": "markdown",
   "metadata": {},
   "source": [
    "#### ** (4d) Restrición en expresiones lamba **\n",
    "#### las [Lambda expressions](https://docs.python.org/2/reference/expressions.html#lambda) contienen un único [expression statement](https://docs.python.org/2/reference/simple_stmts.html#expression-statements) y no pueden contener otros [simple statements](https://docs.python.org/2/reference/simple_stmts.html).  En resumen esto significa que las expresiones lambda tiene que ser evaluadas a un único valor y existir en una única línea lógica. Si se necesita una lógica más compleja hay que usar `def` en lugar de `lambda`.\n",
    "#### Los Expression statements se evaluan a un valor (este valor puede ser None). Las expresiones lambda automáticamente devuelven el valor de su expression statment. De hecho una sentencia `return` en una `lambda` lanza un `SyntaxError`.\n",
    "#### Las siguientes palabras clave de Python hancen referencia a simple statments que no se pueden utilizar dentro de una expresión lambda: `assert`, `pass`, `del`, `print`, `return`, `yield`, `raise`, `break`, `continue`, `import`, `global`, y `exec`.  Tampoco se puede utilizar  assignment statements (`=`) ni augmented assignment statements (por ejemplo `+=`)."
   ]
  },
  {
   "cell_type": "code",
   "execution_count": null,
   "metadata": {
    "collapsed": false
   },
   "outputs": [],
   "source": [
    "# Ejecuta este código\n",
    "# Fallará por un error de sintaxis ya que no podemos utilizar print dentro de una expresión lambda\n",
    "import traceback\n",
    "try:\n",
    "    exec \"lambda x: print x\"\n",
    "except:\n",
    "    traceback.print_exc()"
   ]
  },
  {
   "cell_type": "markdown",
   "metadata": {},
   "source": [
    "#### ** (4e) Programación funcional **\n",
    "#### Las `lambda` mostradas hasta ahora han sido un poco artificiales ya que lo que se pretendía demostrar eran las diferencias y similitudes entre `lambda` y `def`. Un excelente caso de uso de las expresiones lambda es la programación funcional. En la programación funcional a menudo pasaremos funciones a otras funciones como parámetros y podremos utilizar `lambda` para reducir la cantidad de código necesario y hacerlo más legible.\n",
    "#### Algunas de las funciones más comunes en programación funcional son map, filter y reduce. Map transforma una serie de elementos aplicando una función de manera individual a cada uno de los elementos en la serie y devuelve la serie de elementos transformados. Filter también aplica una función de manera individual a cada elemento en una serie, sin embargo con filter, esta función se evalúa a `True` o `False` y sólo se retienen los elementos evaluados a `True`. Por último, reduce opera sobre pares de elementos en una serie, aplica una función que toma dos valores y devuelve un único valor. Usando esta función, reduce es capaz de manera iterativa de \"reducir\" una serie a un único valor.\n",
    "#### En este ejercicio crearas tres funciones `lambda` simples, para usarlas con map, filter y reduce. la `lambda` map multiplicará su entrada por 5, la `lambda` filter evaluará a `True` los números pares y la `lambda` reduce sumará dos números. Hemos creado una clase llamada `FuncionalWrapper` que utiliza la misma sintaxis que PySpark.\n",
    "#### Map requiere una función de un parámetro que devuelve un nuevo valor, filter requiere una función de un parámetro que devuelve `True` o `False` y reduce requiere una función de dos parámetros que combina los dos parámetros y devuelve un nuevo valor. "
   ]
  },
  {
   "cell_type": "code",
   "execution_count": null,
   "metadata": {
    "collapsed": false
   },
   "outputs": [],
   "source": [
    "# Crea una clase para dar a los ejemplos la misma sintaxis que PySpark\n",
    "class FunctionalWrapper(object):\n",
    "    def __init__(self, data):\n",
    "        self.data = data\n",
    "    def map(self, function):\n",
    "        \"\"\"Llama a `map` en los items de `data` utilizando `function`\"\"\"\n",
    "        return FunctionalWrapper(map(function, self.data))\n",
    "    def reduce(self, function):\n",
    "        \"\"\"Llama a `reduce` en los items de `data` utilizando `function`\"\"\"\n",
    "        return reduce(function, self.data)\n",
    "    def filter(self, function):\n",
    "        \"\"\"Llama a `filter` en los items de `data` utilizando `function`\"\"\"\n",
    "        return FunctionalWrapper(filter(function, self.data))\n",
    "    def __eq__(self, other):\n",
    "        return (isinstance(other, self.__class__)\n",
    "            and self.__dict__ == other.__dict__)\n",
    "    def __getattr__(self, name):  return getattr(self.data, name)\n",
    "    def __getitem__(self, k):  return self.data.__getitem__(k)\n",
    "    def __repr__(self):  return 'FunctionalWrapper({0})'.format(repr(self.data))\n",
    "    def __str__(self):  return 'FunctionalWrapper({0})'.format(str(self.data))"
   ]
  },
  {
   "cell_type": "code",
   "execution_count": null,
   "metadata": {
    "collapsed": false
   },
   "outputs": [],
   "source": [
    "# Ejemplo de map\n",
    "\n",
    "# Crear los datos\n",
    "mapData = FunctionalWrapper(range(5))\n",
    "\n",
    "# Definir una función que se aplicará a cada elemento\n",
    "f = lambda x: x + 3\n",
    "\n",
    "# Programación imperativa: hacer un bucle y crear un nuevo obje aplicando f\n",
    "mapResult = FunctionalWrapper([])  # Inicializar el resultado\n",
    "for element in mapData:\n",
    "    mapResult.append(f(element))  # aplicar f y guardar el nuevo valor\n",
    "print 'resultado del bucle for: {0}'.format(mapResult)\n",
    "\n",
    "# Programación funcional usar map en vez del bucle for\n",
    "print 'resultado de la llamada a map: {0}'.format(mapData.map(f))\n",
    "\n",
    "# El resultado es el mismo pero con la función map nos abstraemos de la implementacion\n",
    "# y requiere menos código"
   ]
  },
  {
   "cell_type": "code",
   "execution_count": null,
   "metadata": {
    "collapsed": false
   },
   "outputs": [],
   "source": [
    "# TODO: Sustituye <RELLENA> con el código apropiado\n",
    "dataset = FunctionalWrapper(range(10))\n",
    "\n",
    "# Multiplica cada elemento por 5\n",
    "mapResult = dataset.map(<RELLENA>)\n",
    "# Se queda con los elementos pares\n",
    "# \"x % 2\" evalúa el resto de dividir x entre 2 \n",
    "filterResult = dataset.filter(<RELLENA>)\n",
    "# suma los elementos\n",
    "reduceResult = dataset.reduce(<RELLENA>)\n",
    "\n",
    "print 'mapResult: {0}'.format(mapResult)\n",
    "print '\\nfilterResult: {0}'.format(filterResult)\n",
    "print '\\nreduceResult: {0}'.format(reduceResult)"
   ]
  },
  {
   "cell_type": "code",
   "execution_count": null,
   "metadata": {
    "collapsed": false
   },
   "outputs": [],
   "source": [
    "# TEST Programación funcional (4e)\n",
    "Test.assertEquals(mapResult, FunctionalWrapper([0, 5, 10, 15, 20, 25, 30, 35, 40, 45]),\n",
    "                  'valor incorrecto para mapResult')\n",
    "Test.assertEquals(filterResult, FunctionalWrapper([0, 2, 4, 6, 8]),\n",
    "                  'valor incorrecto para filterResult')\n",
    "Test.assertEquals(reduceResult, 45, 'valor incorrecto para reduceResult')"
   ]
  },
  {
   "cell_type": "markdown",
   "metadata": {},
   "source": [
    "#### ** (4f) Composición **\n",
    "#### Dado que nuestros métodos de map y filter en la clase  `FunctionalWrapper` devuelven objetos`FunctionalWrapper` podemos componer (chain) nuestras llamadas a las funciones. Por ejemplo `dataset.map(f1).filter(f2).reduce(f3)` donde `f1`, `f2` y `f3` son funciones o expresiones lambda, primero se aplica una operación map a `dataset` después se filtra el resultado del map y por último se reduce el resultado de las primeras dos operaciones.\n",
    "#### Cuando componemos (chain) operaciones la salida de una operación es la entrada de la siguiente y se aplican de izquierda a derecha. Es como cuando se encadenan strings con Python, por ejemplo `'parte esto'.lower().split(' ')`  primero devuelve un nuevo objeto string `'parte esto'` y después se llama a `split(' ')` en ese string para producir `['parte', 'esto']`.\n",
    "#### En este ejercicio reusaremos las expresiones lambda de (4e) pero aplicándolas a `dataset` en la secuencia: map, filter, reduce. Ya que estamos componiendo operaciones el resultado será diferente al de (4e). Podemos escribir las operaciones en lineas separadas para mejorar la legibilidad."
   ]
  },
  {
   "cell_type": "code",
   "execution_count": null,
   "metadata": {
    "collapsed": false
   },
   "outputs": [],
   "source": [
    "# Ejemplo de expression statement multi-línea\n",
    "# Colocar paréntesis alrededor de las expresiones permite que pueda haber multiples líneas sin causar\n",
    "# un error de sintaxis.\n",
    "(dataset\n",
    " .map(lambda x: x + 2)\n",
    " .reduce(lambda x, y: x * y))"
   ]
  },
  {
   "cell_type": "code",
   "execution_count": null,
   "metadata": {
    "collapsed": false
   },
   "outputs": [],
   "source": [
    "# TODO: Sustituye <RELLENA> con el código apropiado\n",
    "# Multiplica los elementos del dataset por cinco, mantén los valores pares y súmalos\n",
    "finalSum = <RELLENA>\n",
    "print finalSum"
   ]
  },
  {
   "cell_type": "code",
   "execution_count": null,
   "metadata": {
    "collapsed": false
   },
   "outputs": [],
   "source": [
    "# TEST Composición (4f)\n",
    "Test.assertEquals(finalSum, 100, 'valor incorrecto para finalSum')"
   ]
  }
 ],
 "metadata": {
  "kernelspec": {
   "display_name": "Python 2",
   "language": "python",
   "name": "python2"
  },
  "language_info": {
   "codemirror_mode": {
    "name": "ipython",
    "version": 2
   },
   "file_extension": ".py",
   "mimetype": "text/x-python",
   "name": "python",
   "nbconvert_exporter": "python",
   "pygments_lexer": "ipython2",
   "version": "2.7.6"
  }
 },
 "nbformat": 4,
 "nbformat_minor": 0
}
